{
 "cells": [
  {
   "cell_type": "markdown",
   "metadata": {},
   "source": [
    "# Richards' Equation, steady state"
   ]
  },
  {
   "cell_type": "markdown",
   "metadata": {},
   "source": [
    "This is a simple verticle, pseudo-1D column of water with a water table below the surface.  It solves the pressure to steady-state.  For constant density and incompressible solid, this would be a linear pressure profile, but we include a pressure-dependent density.\n",
    "\n",
    "Author: Ethan Coon"
   ]
  },
  {
   "cell_type": "code",
   "execution_count": 1,
   "metadata": {},
   "outputs": [],
   "source": [
    "%matplotlib inline"
   ]
  },
  {
   "cell_type": "code",
   "execution_count": 2,
   "metadata": {},
   "outputs": [],
   "source": [
    "import sys,os\n",
    "sys.path.append(os.path.join(os.environ['ATS_SRC_DIR'],'tools', 'utils'))\n",
    "import ats_xdmf\n",
    "import plot_column_data\n",
    "import numpy as np\n",
    "from matplotlib import pyplot as plt"
   ]
  },
  {
   "cell_type": "code",
   "execution_count": 3,
   "metadata": {},
   "outputs": [],
   "source": [
    "# load the ATS solution\n",
    "directory = \"./richards_steadystate.demo\"\n",
    "vis = ats_xdmf.VisFile(directory)\n",
    "vis.loadMesh(columnar=True)\n"
   ]
  },
  {
   "cell_type": "code",
   "execution_count": 4,
   "metadata": {},
   "outputs": [
    {
     "data": {
      "image/png": "[encoded data removed]",
      "text/plain": [
       "<Figure size 432x288 with 2 Axes>"
      ]
     },
     "metadata": {
      "needs_background": "light"
     },
     "output_type": "display_data"
    }
   ],
   "source": [
    "# plot the solution\n",
    "fig = plt.figure()\n",
    "axs = fig.subplots(1,2)\n",
    "plot_column_data.plot_subsurface(vis, ['saturation_liquid',], axs[0], None, 'b')\n",
    "plot_column_data.plot_subsurface(vis, ['pressure',], axs[1], None, 'r')\n",
    "axs[1].ticklabel_format(style='sci', axis='x', scilimits=(0,0))\n",
    "axs[0].set_xlabel('saturation [-]')\n",
    "axs[0].set_ylabel('z [m]')\n",
    "axs[1].set_xlabel('pressure [Pa]')\n",
    "axs[1].set_ylabel('z [m]')\n",
    "plt.tight_layout()\n",
    "plt.show()"
   ]
  },
  {
   "cell_type": "code",
   "execution_count": null,
   "metadata": {},
   "outputs": [],
   "source": []
  }
 ],
 "metadata": {
  "kernelspec": {
   "display_name": "Python 3",
   "language": "python",
   "name": "python3"
  },
  "language_info": {
   "codemirror_mode": {
    "name": "ipython",
    "version": 3
   },
   "file_extension": ".py",
   "mimetype": "text/x-python",
   "name": "python",
   "nbconvert_exporter": "python",
   "pygments_lexer": "ipython3",
   "version": "3.8.3"
  },
  "name": "richards_steadystate.ipynb"
 },
 "nbformat": 4,
 "nbformat_minor": 1
}
