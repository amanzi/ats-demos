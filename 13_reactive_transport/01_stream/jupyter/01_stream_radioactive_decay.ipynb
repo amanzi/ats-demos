{
 "cells": [
  {
   "cell_type": "markdown",
   "metadata": {},
   "source": [
    "#### Model domain : single stream:  Length = 1000 m, Width = 1 m, dx = 10 m, dy= 1 m, Q = 0.1 m$^3$/sec\n",
    "#### Diffusion = 0.2 m$^2$/sec, Dispersion = 0\n",
    "#### Bondary condition : prescribed concentration at the inlet boundary face (x=0 m)\n",
    "#### Initial condition : zero concentration\n",
    "#### Simulation time : 8 hours\n",
    "#### Chemsitry: radioactive decay\n",
    "#### Comparison with PFloTran radioactive decay test at the middle (x=49 m) of the stream \n",
    "#### Plotting: Times series of PFloTran and ATS Tracer1 and Tracer2 concentrations in Moles/Liter at x = 49 m"
   ]
  },
  {
   "cell_type": "code",
   "execution_count": 16,
   "metadata": {},
   "outputs": [],
   "source": [
    "import sys, os, math, h5py, csv\n",
    "import matplotlib.pyplot as plt\n",
    "from scipy import integrate\n",
    "import numpy as np\n",
    "\n",
    "sys.path.append('/Users/ajc/Core/codes/simulator/debug/ats/tools/utils')\n",
    "import read_helper as read"
   ]
  },
  {
   "cell_type": "code",
   "execution_count": 2,
   "metadata": {},
   "outputs": [],
   "source": [
    "path = '/Users/ajc/FUSE/simulations/tests/ats-demos/13_reactive_transport/01_stream'"
   ]
  },
  {
   "cell_type": "code",
   "execution_count": 11,
   "metadata": {},
   "outputs": [],
   "source": [
    "# Read PFOTRAN standalone data\n",
    "pflotran_file = os.path.join(path, 'data/pflotran_out/decay_ingrowth.tec')\n",
    "pflotran_data = dict()\n",
    "pflotran_data['time'] = np.loadtxt(pflotran_file,usecols=0,skiprows=6) #time in hours\n",
    "pflotran_data['Tracer 1'] = np.loadtxt(pflotran_file,usecols=1,skiprows=6)  # Tracer 1\n",
    "pflotran_data['Tracer 2'] = np.loadtxt(pflotran_file,usecols=2,skiprows=6)  # Tracer 1"
   ]
  },
  {
   "cell_type": "code",
   "execution_count": null,
   "metadata": {},
   "outputs": [],
   "source": []
  },
  {
   "cell_type": "code",
   "execution_count": 17,
   "metadata": {},
   "outputs": [],
   "source": [
    "F= ['prun2']\n",
    "F =['test0']\n",
    "Files = [os.path.join(path,f,'visdump_surface_data.h5') for f in F]\n",
    "vars = ['surface-total_component_concentration', 'surface-total_component_concentration']\n",
    "\n",
    "Suffix = ['.cell.Tracer1', '.cell.Tracer2']"
   ]
  },
  {
   "cell_type": "code",
   "execution_count": 18,
   "metadata": {},
   "outputs": [],
   "source": [
    "Colors = ['r','k','b','b','c','m']\n",
    "F_L = ['Tracer 1', 'Tracer 2']"
   ]
  },
  {
   "cell_type": "code",
   "execution_count": 19,
   "metadata": {},
   "outputs": [],
   "source": [
    "#%matplotlib tk\n",
    "def plot_surface_outlet(cell_id=-1):\n",
    "    fig, axs = plt.subplots(1,1, figsize=(6,4), facecolor='w', edgecolor='k',gridspec_kw={'width_ratios':[1]})\n",
    "    fig.subplots_adjust(hspace =.02, wspace=1.02)\n",
    "    plt.tight_layout()\n",
    "    #axs = axs.ravel()\n",
    "    \n",
    "    sum1 = 0\n",
    "    for i, v in enumerate(vars):\n",
    "        plt.subplot(111)\n",
    "        for j,f in enumerate(Files):\n",
    "            data = np.array(read.GetSurfVarFromVis(f,v,cellid=cell_id,suffix=Suffix[i])[v])\n",
    "            Time = np.array([240*i/3600. for i in range(len(data))])\n",
    "            plt.plot(Time, 1.e-3*data,color=Colors[i],label=F_L[i]) # convert ATS moles/second to Pflotran moles/litre\n",
    "            sum1 = sum1 + 1e-3*data[-1]\n",
    "        plt.ylabel(vars[i])\n",
    "\n",
    "        plt.xlabel('Time [h]')\n",
    "\n",
    "    plt.plot(pflotran_data['time'], pflotran_data['Tracer 1'],'r',linestyle='--',label='PFLOTRAN Tracer 1')\n",
    "    plt.plot(pflotran_data['time'], pflotran_data['Tracer 2'],'k',linestyle='--',label='PFLOTRAN Tracer 2')\n",
    "    plt.legend(loc='lower right',fontsize=10)\n",
    "    plt.show()"
   ]
  },
  {
   "cell_type": "code",
   "execution_count": 20,
   "metadata": {},
   "outputs": [
    {
     "name": "stderr",
     "output_type": "stream",
     "text": [
      "/Users/ajc/opt/anaconda3/lib/python3.7/site-packages/ipykernel_launcher.py:10: MatplotlibDeprecationWarning: Adding an axes using the same arguments as a previous axes currently reuses the earlier instance.  In a future version, a new instance will always be created and returned.  Meanwhile, this warning can be suppressed, and the future behavior ensured, by passing a unique label to each axes instance.\n",
      "  # Remove the CWD from sys.path while we load stuff.\n"
     ]
    },
    {
     "data": {
      "image/png": "[encoded data removed]",
      "text/plain": [
       "<Figure size 432x288 with 1 Axes>"
      ]
     },
     "metadata": {},
     "output_type": "display_data"
    }
   ],
   "source": [
    "plot_surface_outlet(cell_id=49)"
   ]
  },
  {
   "cell_type": "code",
   "execution_count": null,
   "metadata": {},
   "outputs": [],
   "source": []
  }
 ],
 "metadata": {
  "kernelspec": {
   "display_name": "Python 3",
   "language": "python",
   "name": "python3"
  },
  "language_info": {
   "codemirror_mode": {
    "name": "ipython",
    "version": 3
   },
   "file_extension": ".py",
   "mimetype": "text/x-python",
   "name": "python",
   "nbconvert_exporter": "python",
   "pygments_lexer": "ipython3",
   "version": "3.7.6"
  }
 },
 "nbformat": 4,
 "nbformat_minor": 2
}
