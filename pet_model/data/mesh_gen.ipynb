{
 "cells": [
  {
   "cell_type": "code",
   "execution_count": 4,
   "metadata": {},
   "outputs": [],
   "source": [
    "import sys,os\n",
    "sys.path.append(os.path.join(os.environ['ATS_SRC_DIR'],'tools','meshing_ats', 'meshing_ats'))\n",
    "import meshing_ats\n",
    "\n",
    "import numpy as np"
   ]
  },
  {
   "cell_type": "code",
   "execution_count": 5,
   "metadata": {},
   "outputs": [],
   "source": [
    "# 2D transect and 2D mesh\n",
    "x = np.arange(0,1000.01,10.)\n",
    "z = 50.-0.05*x\n",
    "m2 = meshing_ats.Mesh2D.from_Transect(x,z)\n"
   ]
  },
  {
   "cell_type": "code",
   "execution_count": 6,
   "metadata": {},
   "outputs": [],
   "source": [
    "# build up the layering structure as we extrude in the vertical\n",
    "layer_dzs = [0.03, 0.03, 0.06, 0.12, 0.24, 0.48, 0.5, 0.54]\n",
    "layer_types = [\"constant\",]*len(layer_dzs)\n",
    "layer_ncells = [1,]*len(layer_dzs)"
   ]
  },
  {
   "cell_type": "code",
   "execution_count": 7,
   "metadata": {},
   "outputs": [
    {
     "name": "stdout",
     "output_type": "stream",
     "text": [
      "\n",
      "You are using exodus.py v 1.05 (beta-cmake), a python wrapper of some of the exodus II library.\n",
      "\n",
      "Copyright (c) 2013, 2014, 2015, 2016, 2017 National Technology &\n",
      "Engineering Solutions of Sandia, LLC (NTESS).  Under the terms of\n",
      "Contract DE-NA0003525 with NTESS, the U.S. Government retains certain\n",
      "rights in this software.  \n",
      "\n",
      "Opening exodus file: hillslope_duff.exo\n"
     ]
    },
    {
     "ename": "Exception",
     "evalue": "ERROR: Cowardly not opening hillslope_duff.exo for write. File already exists.",
     "output_type": "error",
     "traceback": [
      "\u001b[0;31m---------------------------------------------------------------------------\u001b[0m",
      "\u001b[0;31mException\u001b[0m                                 Traceback (most recent call last)",
      "\u001b[0;32m<ipython-input-7-f3ceb530455b>\u001b[0m in \u001b[0;36m<module>\u001b[0;34m()\u001b[0m\n\u001b[1;32m      3\u001b[0m m3 = meshing_ats.Mesh3D.extruded_Mesh2D(m2, layer_types, layer_dzs, \n\u001b[1;32m      4\u001b[0m                                         layer_ncells, layer_material_ids)\n\u001b[0;32m----> 5\u001b[0;31m \u001b[0mm3\u001b[0m\u001b[0;34m.\u001b[0m\u001b[0mwrite_exodus\u001b[0m\u001b[0;34m(\u001b[0m\u001b[0;34m\"hillslope_duff.exo\"\u001b[0m\u001b[0;34m)\u001b[0m\u001b[0;34m\u001b[0m\u001b[0m\n\u001b[0m",
      "\u001b[0;32m/Users/uec/codes/ats/ats/repos/0.88/tools/meshing_ats/meshing_ats/meshing_ats.py\u001b[0m in \u001b[0;36mwrite_exodus\u001b[0;34m(self, filename, face_block_mode)\u001b[0m\n\u001b[1;32m    486\u001b[0m                                    \u001b[0mnum_elem_blk\u001b[0m\u001b[0;34m=\u001b[0m\u001b[0mlen\u001b[0m\u001b[0;34m(\u001b[0m\u001b[0melem_blks\u001b[0m\u001b[0;34m)\u001b[0m\u001b[0;34m,\u001b[0m\u001b[0;34m\u001b[0m\u001b[0m\n\u001b[1;32m    487\u001b[0m                                    num_side_sets=len(self.side_sets))\n\u001b[0;32m--> 488\u001b[0;31m         \u001b[0me\u001b[0m \u001b[0;34m=\u001b[0m \u001b[0mexodus\u001b[0m\u001b[0;34m.\u001b[0m\u001b[0mexodus\u001b[0m\u001b[0;34m(\u001b[0m\u001b[0mfilename\u001b[0m\u001b[0;34m,\u001b[0m \u001b[0mmode\u001b[0m\u001b[0;34m=\u001b[0m\u001b[0;34m'w'\u001b[0m\u001b[0;34m,\u001b[0m \u001b[0marray_type\u001b[0m\u001b[0;34m=\u001b[0m\u001b[0;34m'numpy'\u001b[0m\u001b[0;34m,\u001b[0m \u001b[0minit_params\u001b[0m\u001b[0;34m=\u001b[0m\u001b[0mep\u001b[0m\u001b[0;34m)\u001b[0m\u001b[0;34m\u001b[0m\u001b[0m\n\u001b[0m\u001b[1;32m    489\u001b[0m \u001b[0;34m\u001b[0m\u001b[0m\n\u001b[1;32m    490\u001b[0m         \u001b[0;31m# put the coordinates\u001b[0m\u001b[0;34m\u001b[0m\u001b[0;34m\u001b[0m\u001b[0m\n",
      "\u001b[0;32m/Users/uec/codes/ats/amanzi-tpls/install-0.88/SEACAS/lib/exodus.pyc\u001b[0m in \u001b[0;36m__init__\u001b[0;34m(self, file, mode, array_type, title, numDims, numNodes, numElems, numBlocks, numNodeSets, numSideSets, init_params, io_size)\u001b[0m\n\u001b[1;32m    344\u001b[0m     \u001b[0mself\u001b[0m\u001b[0;34m.\u001b[0m\u001b[0mbasename\u001b[0m \u001b[0;34m=\u001b[0m \u001b[0mbasename\u001b[0m\u001b[0;34m(\u001b[0m\u001b[0mfile\u001b[0m\u001b[0;34m)\u001b[0m\u001b[0;34m\u001b[0m\u001b[0m\n\u001b[1;32m    345\u001b[0m     \u001b[0mself\u001b[0m\u001b[0;34m.\u001b[0m\u001b[0mmodeChar\u001b[0m \u001b[0;34m=\u001b[0m \u001b[0mmode\u001b[0m\u001b[0;34m\u001b[0m\u001b[0m\n\u001b[0;32m--> 346\u001b[0;31m     \u001b[0mself\u001b[0m\u001b[0;34m.\u001b[0m\u001b[0m__open\u001b[0m\u001b[0;34m(\u001b[0m\u001b[0mio_size\u001b[0m\u001b[0;34m=\u001b[0m\u001b[0mio_size\u001b[0m\u001b[0;34m)\u001b[0m\u001b[0;34m\u001b[0m\u001b[0m\n\u001b[0m\u001b[1;32m    347\u001b[0m     \u001b[0mEXODUS_LIB\u001b[0m\u001b[0;34m.\u001b[0m\u001b[0mex_set_max_name_length\u001b[0m\u001b[0;34m(\u001b[0m\u001b[0mself\u001b[0m\u001b[0;34m.\u001b[0m\u001b[0mfileId\u001b[0m\u001b[0;34m,\u001b[0m\u001b[0mMAX_NAME_LENGTH\u001b[0m\u001b[0;34m)\u001b[0m\u001b[0;34m\u001b[0m\u001b[0m\n\u001b[1;32m    348\u001b[0m     \u001b[0;32mif\u001b[0m \u001b[0mmode\u001b[0m\u001b[0;34m.\u001b[0m\u001b[0mlower\u001b[0m\u001b[0;34m(\u001b[0m\u001b[0;34m)\u001b[0m \u001b[0;34m==\u001b[0m \u001b[0;34m'w'\u001b[0m\u001b[0;34m:\u001b[0m\u001b[0;34m\u001b[0m\u001b[0m\n",
      "\u001b[0;32m/Users/uec/codes/ats/amanzi-tpls/install-0.88/SEACAS/lib/exodus.pyc\u001b[0m in \u001b[0;36m__open\u001b[0;34m(self, io_size)\u001b[0m\n\u001b[1;32m   3473\u001b[0m     \u001b[0;32melif\u001b[0m \u001b[0mself\u001b[0m\u001b[0;34m.\u001b[0m\u001b[0mmodeChar\u001b[0m\u001b[0;34m.\u001b[0m\u001b[0mlower\u001b[0m\u001b[0;34m(\u001b[0m\u001b[0;34m)\u001b[0m \u001b[0;34m==\u001b[0m \u001b[0;34m\"w\"\u001b[0m \u001b[0;32mand\u001b[0m \u001b[0mos\u001b[0m\u001b[0;34m.\u001b[0m\u001b[0mpath\u001b[0m\u001b[0;34m.\u001b[0m\u001b[0misfile\u001b[0m\u001b[0;34m(\u001b[0m\u001b[0mself\u001b[0m\u001b[0;34m.\u001b[0m\u001b[0mfileName\u001b[0m\u001b[0;34m)\u001b[0m\u001b[0;34m:\u001b[0m\u001b[0;34m\u001b[0m\u001b[0m\n\u001b[1;32m   3474\u001b[0m       raise Exception, (\"ERROR: Cowardly not opening \" + self.fileName + \\\n\u001b[0;32m-> 3475\u001b[0;31m                         \" for write. File already exists.\")\n\u001b[0m\u001b[1;32m   3476\u001b[0m     \u001b[0;32melif\u001b[0m \u001b[0mself\u001b[0m\u001b[0;34m.\u001b[0m\u001b[0mmodeChar\u001b[0m\u001b[0;34m.\u001b[0m\u001b[0mlower\u001b[0m\u001b[0;34m(\u001b[0m\u001b[0;34m)\u001b[0m \u001b[0;32mnot\u001b[0m \u001b[0;32min\u001b[0m \u001b[0;34m[\u001b[0m\u001b[0;34m\"a\"\u001b[0m\u001b[0;34m,\u001b[0m \u001b[0;34m\"r\"\u001b[0m\u001b[0;34m,\u001b[0m \u001b[0;34m\"w\"\u001b[0m\u001b[0;34m]\u001b[0m\u001b[0;34m:\u001b[0m\u001b[0;34m\u001b[0m\u001b[0m\n\u001b[1;32m   3477\u001b[0m       \u001b[0;32mraise\u001b[0m \u001b[0mException\u001b[0m\u001b[0;34m,\u001b[0m \u001b[0;34m(\u001b[0m\u001b[0;34m\"ERROR: File open mode \"\u001b[0m \u001b[0;34m+\u001b[0m \u001b[0mself\u001b[0m\u001b[0;34m.\u001b[0m\u001b[0mmodeChar\u001b[0m \u001b[0;34m+\u001b[0m \u001b[0;34m\" unrecognized.\"\u001b[0m\u001b[0;34m)\u001b[0m\u001b[0;34m\u001b[0m\u001b[0m\n",
      "\u001b[0;31mException\u001b[0m: ERROR: Cowardly not opening hillslope_duff.exo for write. File already exists."
     ]
    }
   ],
   "source": [
    "# undisturbed mesh\n",
    "layer_material_ids = [1002,] + [1001,]*(len(layer_dzs)-1)\n",
    "m3 = meshing_ats.Mesh3D.extruded_Mesh2D(m2, layer_types, layer_dzs, \n",
    "                                        layer_ncells, layer_material_ids)\n",
    "m3.write_exodus(\"hillslope_duff.exo\")"
   ]
  },
  {
   "cell_type": "code",
   "execution_count": 8,
   "metadata": {},
   "outputs": [
    {
     "name": "stdout",
     "output_type": "stream",
     "text": [
      "\n",
      "You are using exodus.py v 1.05 (beta-cmake), a python wrapper of some of the exodus II library.\n",
      "\n",
      "Copyright (c) 2013, 2014, 2015, 2016, 2017 National Technology &\n",
      "Engineering Solutions of Sandia, LLC (NTESS).  Under the terms of\n",
      "Contract DE-NA0003525 with NTESS, the U.S. Government retains certain\n",
      "rights in this software.  \n",
      "\n",
      "Opening exodus file: hillslope_noduff.exo\n"
     ]
    },
    {
     "ename": "Exception",
     "evalue": "ERROR: Cowardly not opening hillslope_noduff.exo for write. File already exists.",
     "output_type": "error",
     "traceback": [
      "\u001b[0;31m---------------------------------------------------------------------------\u001b[0m",
      "\u001b[0;31mException\u001b[0m                                 Traceback (most recent call last)",
      "\u001b[0;32m<ipython-input-8-3936c03282e5>\u001b[0m in \u001b[0;36m<module>\u001b[0;34m()\u001b[0m\n\u001b[1;32m      3\u001b[0m m3 = meshing_ats.Mesh3D.extruded_Mesh2D(m2, layer_types, layer_dzs, \n\u001b[1;32m      4\u001b[0m                                         layer_ncells, layer_material_ids)\n\u001b[0;32m----> 5\u001b[0;31m \u001b[0mm3\u001b[0m\u001b[0;34m.\u001b[0m\u001b[0mwrite_exodus\u001b[0m\u001b[0;34m(\u001b[0m\u001b[0;34m\"hillslope_noduff.exo\"\u001b[0m\u001b[0;34m)\u001b[0m\u001b[0;34m\u001b[0m\u001b[0m\n\u001b[0m",
      "\u001b[0;32m/Users/uec/codes/ats/ats/repos/0.88/tools/meshing_ats/meshing_ats/meshing_ats.py\u001b[0m in \u001b[0;36mwrite_exodus\u001b[0;34m(self, filename, face_block_mode)\u001b[0m\n\u001b[1;32m    486\u001b[0m                                    \u001b[0mnum_elem_blk\u001b[0m\u001b[0;34m=\u001b[0m\u001b[0mlen\u001b[0m\u001b[0;34m(\u001b[0m\u001b[0melem_blks\u001b[0m\u001b[0;34m)\u001b[0m\u001b[0;34m,\u001b[0m\u001b[0;34m\u001b[0m\u001b[0m\n\u001b[1;32m    487\u001b[0m                                    num_side_sets=len(self.side_sets))\n\u001b[0;32m--> 488\u001b[0;31m         \u001b[0me\u001b[0m \u001b[0;34m=\u001b[0m \u001b[0mexodus\u001b[0m\u001b[0;34m.\u001b[0m\u001b[0mexodus\u001b[0m\u001b[0;34m(\u001b[0m\u001b[0mfilename\u001b[0m\u001b[0;34m,\u001b[0m \u001b[0mmode\u001b[0m\u001b[0;34m=\u001b[0m\u001b[0;34m'w'\u001b[0m\u001b[0;34m,\u001b[0m \u001b[0marray_type\u001b[0m\u001b[0;34m=\u001b[0m\u001b[0;34m'numpy'\u001b[0m\u001b[0;34m,\u001b[0m \u001b[0minit_params\u001b[0m\u001b[0;34m=\u001b[0m\u001b[0mep\u001b[0m\u001b[0;34m)\u001b[0m\u001b[0;34m\u001b[0m\u001b[0m\n\u001b[0m\u001b[1;32m    489\u001b[0m \u001b[0;34m\u001b[0m\u001b[0m\n\u001b[1;32m    490\u001b[0m         \u001b[0;31m# put the coordinates\u001b[0m\u001b[0;34m\u001b[0m\u001b[0;34m\u001b[0m\u001b[0m\n",
      "\u001b[0;32m/Users/uec/codes/ats/amanzi-tpls/install-0.88/SEACAS/lib/exodus.pyc\u001b[0m in \u001b[0;36m__init__\u001b[0;34m(self, file, mode, array_type, title, numDims, numNodes, numElems, numBlocks, numNodeSets, numSideSets, init_params, io_size)\u001b[0m\n\u001b[1;32m    344\u001b[0m     \u001b[0mself\u001b[0m\u001b[0;34m.\u001b[0m\u001b[0mbasename\u001b[0m \u001b[0;34m=\u001b[0m \u001b[0mbasename\u001b[0m\u001b[0;34m(\u001b[0m\u001b[0mfile\u001b[0m\u001b[0;34m)\u001b[0m\u001b[0;34m\u001b[0m\u001b[0m\n\u001b[1;32m    345\u001b[0m     \u001b[0mself\u001b[0m\u001b[0;34m.\u001b[0m\u001b[0mmodeChar\u001b[0m \u001b[0;34m=\u001b[0m \u001b[0mmode\u001b[0m\u001b[0;34m\u001b[0m\u001b[0m\n\u001b[0;32m--> 346\u001b[0;31m     \u001b[0mself\u001b[0m\u001b[0;34m.\u001b[0m\u001b[0m__open\u001b[0m\u001b[0;34m(\u001b[0m\u001b[0mio_size\u001b[0m\u001b[0;34m=\u001b[0m\u001b[0mio_size\u001b[0m\u001b[0;34m)\u001b[0m\u001b[0;34m\u001b[0m\u001b[0m\n\u001b[0m\u001b[1;32m    347\u001b[0m     \u001b[0mEXODUS_LIB\u001b[0m\u001b[0;34m.\u001b[0m\u001b[0mex_set_max_name_length\u001b[0m\u001b[0;34m(\u001b[0m\u001b[0mself\u001b[0m\u001b[0;34m.\u001b[0m\u001b[0mfileId\u001b[0m\u001b[0;34m,\u001b[0m\u001b[0mMAX_NAME_LENGTH\u001b[0m\u001b[0;34m)\u001b[0m\u001b[0;34m\u001b[0m\u001b[0m\n\u001b[1;32m    348\u001b[0m     \u001b[0;32mif\u001b[0m \u001b[0mmode\u001b[0m\u001b[0;34m.\u001b[0m\u001b[0mlower\u001b[0m\u001b[0;34m(\u001b[0m\u001b[0;34m)\u001b[0m \u001b[0;34m==\u001b[0m \u001b[0;34m'w'\u001b[0m\u001b[0;34m:\u001b[0m\u001b[0;34m\u001b[0m\u001b[0m\n",
      "\u001b[0;32m/Users/uec/codes/ats/amanzi-tpls/install-0.88/SEACAS/lib/exodus.pyc\u001b[0m in \u001b[0;36m__open\u001b[0;34m(self, io_size)\u001b[0m\n\u001b[1;32m   3473\u001b[0m     \u001b[0;32melif\u001b[0m \u001b[0mself\u001b[0m\u001b[0;34m.\u001b[0m\u001b[0mmodeChar\u001b[0m\u001b[0;34m.\u001b[0m\u001b[0mlower\u001b[0m\u001b[0;34m(\u001b[0m\u001b[0;34m)\u001b[0m \u001b[0;34m==\u001b[0m \u001b[0;34m\"w\"\u001b[0m \u001b[0;32mand\u001b[0m \u001b[0mos\u001b[0m\u001b[0;34m.\u001b[0m\u001b[0mpath\u001b[0m\u001b[0;34m.\u001b[0m\u001b[0misfile\u001b[0m\u001b[0;34m(\u001b[0m\u001b[0mself\u001b[0m\u001b[0;34m.\u001b[0m\u001b[0mfileName\u001b[0m\u001b[0;34m)\u001b[0m\u001b[0;34m:\u001b[0m\u001b[0;34m\u001b[0m\u001b[0m\n\u001b[1;32m   3474\u001b[0m       raise Exception, (\"ERROR: Cowardly not opening \" + self.fileName + \\\n\u001b[0;32m-> 3475\u001b[0;31m                         \" for write. File already exists.\")\n\u001b[0m\u001b[1;32m   3476\u001b[0m     \u001b[0;32melif\u001b[0m \u001b[0mself\u001b[0m\u001b[0;34m.\u001b[0m\u001b[0mmodeChar\u001b[0m\u001b[0;34m.\u001b[0m\u001b[0mlower\u001b[0m\u001b[0;34m(\u001b[0m\u001b[0;34m)\u001b[0m \u001b[0;32mnot\u001b[0m \u001b[0;32min\u001b[0m \u001b[0;34m[\u001b[0m\u001b[0;34m\"a\"\u001b[0m\u001b[0;34m,\u001b[0m \u001b[0;34m\"r\"\u001b[0m\u001b[0;34m,\u001b[0m \u001b[0;34m\"w\"\u001b[0m\u001b[0;34m]\u001b[0m\u001b[0;34m:\u001b[0m\u001b[0;34m\u001b[0m\u001b[0m\n\u001b[1;32m   3477\u001b[0m       \u001b[0;32mraise\u001b[0m \u001b[0mException\u001b[0m\u001b[0;34m,\u001b[0m \u001b[0;34m(\u001b[0m\u001b[0;34m\"ERROR: File open mode \"\u001b[0m \u001b[0;34m+\u001b[0m \u001b[0mself\u001b[0m\u001b[0;34m.\u001b[0m\u001b[0mmodeChar\u001b[0m \u001b[0;34m+\u001b[0m \u001b[0;34m\" unrecognized.\"\u001b[0m\u001b[0;34m)\u001b[0m\u001b[0;34m\u001b[0m\u001b[0m\n",
      "\u001b[0;31mException\u001b[0m: ERROR: Cowardly not opening hillslope_noduff.exo for write. File already exists."
     ]
    }
   ],
   "source": [
    "# no duff\n",
    "layer_material_ids = [1001,]*len(layer_dzs)\n",
    "m3 = meshing_ats.Mesh3D.extruded_Mesh2D(m2, layer_types, layer_dzs, \n",
    "                                        layer_ncells, layer_material_ids)\n",
    "m3.write_exodus(\"hillslope_noduff.exo\")"
   ]
  },
  {
   "cell_type": "code",
   "execution_count": 9,
   "metadata": {},
   "outputs": [
    {
     "name": "stdout",
     "output_type": "stream",
     "text": [
      "2.0\n"
     ]
    }
   ],
   "source": [
    "print sum(layer_dzs)"
   ]
  },
  {
   "cell_type": "code",
   "execution_count": 10,
   "metadata": {},
   "outputs": [
    {
     "name": "stdout",
     "output_type": "stream",
     "text": [
      "\n",
      "You are using exodus.py v 1.05 (beta-cmake), a python wrapper of some of the exodus II library.\n",
      "\n",
      "Copyright (c) 2013, 2014, 2015, 2016, 2017 National Technology &\n",
      "Engineering Solutions of Sandia, LLC (NTESS).  Under the terms of\n",
      "Contract DE-NA0003525 with NTESS, the U.S. Government retains certain\n",
      "rights in this software.  \n",
      "\n",
      "Opening exodus file: column.exo\n",
      "Closing exodus file: column.exo\n"
     ]
    }
   ],
   "source": [
    "# also do a column mesh variant\n",
    "xc = np.array([0.,1.])\n",
    "zc = np.array([0.,0.])\n",
    "m2c = meshing_ats.Mesh2D.from_Transect(xc,zc)\n",
    "\n",
    "m3c = meshing_ats.Mesh3D.extruded_Mesh2D(m2c, layer_types, layer_dzs, \n",
    "                                        layer_ncells, layer_material_ids)\n",
    "m3c.write_exodus(\"column.exo\")"
   ]
  },
  {
   "cell_type": "code",
   "execution_count": null,
   "metadata": {},
   "outputs": [],
   "source": []
  }
 ],
 "metadata": {
  "anaconda-cloud": {},
  "kernelspec": {
   "display_name": "Python 2",
   "language": "python",
   "name": "python2"
  },
  "language_info": {
   "codemirror_mode": {
    "name": "ipython",
    "version": 2
   },
   "file_extension": ".py",
   "mimetype": "text/x-python",
   "name": "python",
   "nbconvert_exporter": "python",
   "pygments_lexer": "ipython2",
   "version": "2.7.14"
  }
 },
 "nbformat": 4,
 "nbformat_minor": 1
}
